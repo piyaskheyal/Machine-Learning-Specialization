{
 "cells": [
  {
   "cell_type": "markdown",
   "id": "eb99df81-620d-4af2-ae54-b650c438a46b",
   "metadata": {},
   "source": [
    "# Gradient Descent for Cost Function $J(w, b)$\n",
    "\n",
    "## Objective\n",
    "Minimize the cost function:\n",
    "\n",
    "$$\n",
    "J(w, b) = \\frac{1}{2m} \\sum_{i=1}^{m} \\left( f_{w,b}(x^{(i)}) - y^{(i)} \\right)^2\n",
    "$$\n",
    "\n",
    "where:\n",
    "- $f_{w,b}(x^{(i)}) = wx^{(i)} + b$\n",
    "- $m$ = number of training examples\n",
    "- $x^{(i)}$, $y^{(i)}$ are the training data points\n",
    "\n",
    "## Gradient Descent Algorithm\n",
    "\n",
    "1. **Initialize parameters** $w$ and $b$ to some values (e.g., zero or random).\n",
    "2. Repeat until convergence:\n",
    "   - Compute gradients:\n",
    "\n",
    "$$\n",
    "\\frac{\\partial J(w, b)}{\\partial w} = \\frac{1}{m} \\sum_{i=1}^{m} \\left( f_{w,b}(x^{(i)}) - y^{(i)} \\right) x^{(i)}\n",
    "$$\n",
    "\n",
    "$$\n",
    "\\frac{\\partial J(w, b)}{\\partial b} = \\frac{1}{m} \\sum_{i=1}^{m} \\left( f_{w,b}(x^{(i)}) - y^{(i)} \\right)\n",
    "$$\n",
    "\n",
    "3. **Update parameters:**\n",
    "\n",
    "$$\n",
    " w := w - \\alpha \\frac{\\partial J(w, b)}{\\partial w}\n",
    "$$\n",
    "$$\n",
    " b := b - \\alpha \\frac{\\partial J(w, b)}{\\partial b}\n",
    "$$\n",
    "\n",
    "where $\\alpha$ is the learning rate."
   ]
  },
  {
   "cell_type": "code",
   "execution_count": 7,
   "id": "7048f706-1e9f-4416-ab20-6fc3d60b841e",
   "metadata": {},
   "outputs": [],
   "source": [
    "import numpy as np\n",
    "import matplotlib.pyplot as plt"
   ]
  },
  {
   "cell_type": "code",
   "execution_count": 20,
   "id": "b8c73177-3c30-42e2-be54-3bda75d52543",
   "metadata": {},
   "outputs": [],
   "source": [
    "## Python Code Implementation\n",
    "def compute_gradient(x, y, w, b):\n",
    "    m = x.shape[0]  # Number of training examples\n",
    "    dj_dw = 0\n",
    "    dj_db = 0\n",
    "    \n",
    "    for i in range(m):\n",
    "        f_wb = (w * x[i]) + b\n",
    "        dj_dw += (f_wb - y[i]) * x[i]\n",
    "        dj_db += (f_wb - y[i])\n",
    "\n",
    "    dj_dw /= m\n",
    "    dj_db /= m\n",
    "    \n",
    "    return dj_dw, dj_db\n",
    "\n",
    "def gradient_descent(x, y, w, b, alpha, epsilon=1e-3, max_iters=10000):\n",
    "    prev_w, prev_b = w, b\n",
    "    for _ in range(max_iters):  # Guard against infinite loops\n",
    "        dj_dw, dj_db = compute_gradient(x, y, w, b)\n",
    "        w -= alpha * dj_dw\n",
    "        b -= alpha * dj_db\n",
    "        \n",
    "        # Check convergence using parameter changes\n",
    "        if abs(w - prev_w) < epsilon and abs(b - prev_b) < epsilon:\n",
    "            break\n",
    "        prev_w, prev_b = w, b\n",
    "        \n",
    "    return w, b"
   ]
  },
  {
   "cell_type": "code",
   "execution_count": 21,
   "id": "53e4c038-da89-4ecf-956d-517033cdf9d4",
   "metadata": {},
   "outputs": [
    {
     "name": "stdout",
     "output_type": "stream",
     "text": [
      "Final w: 1.0199991494471188, Final b: 0.5291020336979426\n"
     ]
    }
   ],
   "source": [
    "# Example Usage\n",
    "x_train = np.array([1.0, 2.0, 3.0])\n",
    "y_train = np.array([2.0, 2.5, 3.5])\n",
    "initial_w = 0\n",
    "initial_b = 0\n",
    "alpha = 0.01\n",
    "iterations = 1000\n",
    "\n",
    "w, b = gradient_descent(x_train, y_train, initial_w, initial_b, alpha)\n",
    "print(f'Final w: {w}, Final b: {b}')"
   ]
  },
  {
   "cell_type": "code",
   "execution_count": 22,
   "id": "56a5aee2-b888-431f-9b41-0f75973d3da3",
   "metadata": {},
   "outputs": [
    {
     "data": {
      "image/png": "[encoded data removed]",
      "text/plain": [
       "<Figure size 640x480 with 1 Axes>"
      ]
     },
     "metadata": {},
     "output_type": "display_data"
    }
   ],
   "source": [
    "# Scatter plot\n",
    "plt.scatter(x_train, y_train, color='blue', marker='o', label='Data points')\n",
    "\n",
    "# Line plot for y = wx + b\n",
    "# Define the range for x values\n",
    "x = np.linspace(0, 6, 100)  # Example range from 0 to 10\n",
    "\n",
    "# Plot the line\n",
    "plt.plot(x, w * x + b, color='red', label=f'$y = {w}x + {b}$')\n",
    "\n",
    "# Adding labels and title\n",
    "plt.xlabel('x-axis')\n",
    "plt.ylabel('y-axis')\n",
    "plt.title('Scatter Plot of x vs y')\n",
    "plt.legend()\n",
    "\n",
    "# Show the plot\n",
    "plt.grid(False)\n",
    "plt.show()"
   ]
  },
  {
   "cell_type": "markdown",
   "id": "151cf6f9-6f50-4bb4-afc7-30ff84d781cc",
   "metadata": {},
   "source": [
    "# Gradient Descent for Multivariable Cost Functions\n",
    "\n",
    "## **Cost Function**  \n",
    "For a model with weight vector $\\vec{w} = \\begin{bmatrix} w_1 \\\\ w_2 \\\\ \\vdots \\\\ w_n \\end{bmatrix}$ and bias $b$, the cost function $J(\\vec{w}, b)$ quantifies the error between predictions $h_{\\vec{w},b}(\\mathbf{x})$ and true labels $y$. For linear regression:  \n",
    "\n",
    "$$\n",
    "J(\\vec{w}, b) = \\frac{1}{2m} \\sum_{i=1}^m \\left( h_{\\vec{w},b}(\\mathbf{x}^{(i)}) - y^{(i)} \\right)^2\n",
    "$$\n",
    "where $h_{\\vec{w},b}(\\mathbf{x}) = \\vec{w} \\cdot \\mathbf{x} + b = \\sum_{j=1}^n w_j x_j + b$.\n",
    "\n",
    "---\n",
    "\n",
    "## **Gradient Descent Steps**  \n",
    "To minimize $J(\\vec{w}, b)$:  \n",
    "1. **Initialize** $\\vec{w}$ and $b$.  \n",
    "2. **Compute partial derivatives**:  \n",
    "   - For each weight $w_j$:  \n",
    "\n",
    "$$\n",
    "\\frac{\\partial J}{\\partial w_j} = \\frac{1}{m} \\sum_{i=1}^m \\left( h_{\\vec{w},b}(\\mathbf{x}^{(i)}) - y^{(i)} \\right) x_j^{(i)}\n",
    "$$\n",
    "   - For bias $b$:  \n",
    "\n",
    "$$\n",
    "\\frac{\\partial J}{\\partial b} = \\frac{1}{m} \\sum_{i=1}^m \\left( h_{\\vec{w},b}(\\mathbf{x}^{(i)}) - y^{(i)} \\right)\n",
    "$$\n",
    "3. **Update parameters**:  \n",
    "\n",
    "$$\n",
    "w_j := w_j - \\alpha \\frac{\\partial J}{\\partial w_j} \\quad \\text{(for all $j = 1,2,\\dots,n$)}\n",
    "$$\n",
    "\n",
    "$$\n",
    "b := b - \\alpha \\frac{\\partial J}{\\partial b}\n",
    "$$\n",
    "4. **Repeat** until convergence.  \n",
    "\n",
    "---\n",
    "\n",
    "## **Key Notes**  \n",
    "- Vector $\\vec{w}$ explicitly represents weights:  \n",
    "\n",
    "$$\n",
    "\\vec{w} = \\begin{bmatrix} w_1 \\\\ w_2 \\\\ \\vdots \\\\ w_n \\end{bmatrix}\n",
    "$$\n",
    "- **Learning Rate ($\\alpha$)**: Critical for convergence speed and stability.  \n",
    "- **Simultaneous Updates**: All $w_j$ and $b$ must be updated *together* in each iteration.  "
   ]
  },
  {
   "cell_type": "code",
   "execution_count": null,
   "id": "9a15fabd-b280-41dc-9581-933f3cfeb8be",
   "metadata": {},
   "outputs": [],
   "source": []
  }
 ],
 "metadata": {
  "kernelspec": {
   "display_name": "Python 3 (ipykernel)",
   "language": "python",
   "name": "python3"
  },
  "language_info": {
   "codemirror_mode": {
    "name": "ipython",
    "version": 3
   },
   "file_extension": ".py",
   "mimetype": "text/x-python",
   "name": "python",
   "nbconvert_exporter": "python",
   "pygments_lexer": "ipython3",
   "version": "3.10.12"
  }
 },
 "nbformat": 4,
 "nbformat_minor": 5
}
