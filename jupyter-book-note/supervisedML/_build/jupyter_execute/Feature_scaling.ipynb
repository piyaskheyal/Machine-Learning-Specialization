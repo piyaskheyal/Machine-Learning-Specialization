{
 "cells": [
  {
   "cell_type": "markdown",
   "id": "30c11077-d0cb-4da0-a69e-8151b9960063",
   "metadata": {},
   "source": [
    "# Feature Scaling Techniques\n",
    "\n",
    "#### 1. **Feature Scaling**\n",
    "   - This technique scales the feature values by dividing them by the maximum value in the dataset. \n",
    "   - It results in a range from 0 to 1. This is useful when you need all features to be in the same range, especially for algorithms that are sensitive to the magnitude of values (e.g., KNN, gradient descent).\n",
    "   - Formula:  \n",
    "   \n",
    "$$\n",
    "\\text{Scaled Feature} = \\frac{X}{\\max(X)} \n",
    "$$\n",
    "\n",
    "#### 2. **Mean Normalization**\n",
    "   - In this method, each feature value is adjusted by subtracting the mean and then dividing by the range (max - min) of the data.\n",
    "   - Formula:  \n",
    "\n",
    "$$\n",
    "\\text{Normalized Feature} = \\frac{X - \\text{mean}(X)}{\\text{max}(X) - \\text{min}(X)} \n",
    "$$\n",
    "   - The result is a feature distribution between -0.5 and 0.5. This scaling is helpful when you want to center the data around zero.\n",
    "\n",
    "#### 3. **Z-score Normalization (Standardization)**\n",
    "   - This technique transforms the data by subtracting the mean and dividing by the standard deviation.\n",
    "   - Formula:  \n",
    "\n",
    "$$\n",
    "Z = \\frac{X - \\mu}{\\sigma} \n",
    "$$\n",
    "   - It centers the data around zero and scales it based on its spread (standard deviation). This is useful for algorithms that assume normally distributed data or require data with zero mean and unit variance (e.g., linear regression, SVM).\n",
    "\n",
    "To know more about **Standard Deviation**, [click here](Standard_deviation.md)."
   ]
  },
  {
   "cell_type": "code",
   "execution_count": null,
   "id": "3c284d8f-6c07-441c-ad8f-d05ae342d046",
   "metadata": {},
   "outputs": [],
   "source": []
  }
 ],
 "metadata": {
  "kernelspec": {
   "display_name": "Python 3 (ipykernel)",
   "language": "python",
   "name": "python3"
  },
  "language_info": {
   "codemirror_mode": {
    "name": "ipython",
    "version": 3
   },
   "file_extension": ".py",
   "mimetype": "text/x-python",
   "name": "python",
   "nbconvert_exporter": "python",
   "pygments_lexer": "ipython3",
   "version": "3.10.12"
  }
 },
 "nbformat": 4,
 "nbformat_minor": 5
}