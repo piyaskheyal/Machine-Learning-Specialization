{
 "cells": [
  {
   "cell_type": "markdown",
   "id": "4001a35a-790c-4056-b7e3-0aacc5adf599",
   "metadata": {},
   "source": [
    "# Cost Function: Squared Error Cost Function\n",
    "\n",
    "In linear regression, the **cost function** quantifies how well the model's predictions align with the actual data. The squared error cost function is commonly used and defined as follows:\n",
    "\n",
    "## Definition\n",
    "The cost function \\( J(w, b) \\) is given by:\n",
    "\n",
    "$$\n",
    "J(w, b) = \\frac{1}{2m} \\sum_{i=1}^{m} \\left( f_{w, b}(x^{(i)}) - y^{(i)} \\right)^2\n",
    "$$\n",
    "\n",
    "Where:\n",
    "- $m$ is the number of training examples.\n",
    "- $f_{w, b}(x^{(i)})$ is the predicted value for the $i$-th training example.\n",
    "- $y^{(i)}$ is the actual value for the $i$-th training example.\n",
    "- $w$ and $b$ are the model parameters (weights and bias).\n",
    "\n",
    "## Intuition\n",
    "- The term $f_{w, b}(x^{(i)}) - y^{(i)}$ is the error (difference between prediction and actual value) for the $i$-th training example.\n",
    "- Squaring this error ensures all differences are positive and emphasizes larger errors.\n",
    "- Dividing by $2m$ simplifies the gradient calculations in the optimization process.\n",
    "\n",
    "Minimizing this cost function using methods like **gradient descent** helps the model achieve better performance by adjusting $w$ and $b$ appropriately."
   ]
  },
  {
   "cell_type": "code",
   "execution_count": null,
   "id": "f0375ebf-b5a3-42d5-804b-5b73b6ab7208",
   "metadata": {},
   "outputs": [],
   "source": []
  }
 ],
 "metadata": {
  "kernelspec": {
   "display_name": "Python 3 (ipykernel)",
   "language": "python",
   "name": "python3"
  },
  "language_info": {
   "codemirror_mode": {
    "name": "ipython",
    "version": 3
   },
   "file_extension": ".py",
   "mimetype": "text/x-python",
   "name": "python",
   "nbconvert_exporter": "python",
   "pygments_lexer": "ipython3",
   "version": "3.10.12"
  }
 },
 "nbformat": 4,
 "nbformat_minor": 5
}